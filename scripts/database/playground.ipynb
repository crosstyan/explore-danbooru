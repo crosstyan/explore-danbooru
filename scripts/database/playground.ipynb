{
 "cells": [
  {
   "cell_type": "code",
   "execution_count": null,
   "metadata": {},
   "outputs": [],
   "source": [
    "from loguru import logger\n",
    "from pathlib import Path\n",
    "from models.posts import PostEntry, PostRaw, PostMediaVariantEntry, PostFileEntry\n",
    "import os\n",
    "import sys\n",
    "\n",
    "pw = os.path.abspath('')\n",
    "pwd = os.path.dirname(pw)\n",
    "if pwd not in sys.path:\n",
    "    sys.path.append(pwd)\n",
    "from dump_data import batched_read_objs, get_id_tag_pairs"
   ]
  },
  {
   "cell_type": "code",
   "execution_count": null,
   "metadata": {},
   "outputs": [],
   "source": [
    "PROJECT_ROOT = Path(\"../..\")\n",
    "RAW_DIR = PROJECT_ROOT / \"raw\"\n",
    "POSTS_JSON = RAW_DIR / \"posts.json\"\n",
    "BATCH_SIZE = 5\n",
    "READ_BATCHES = 1"
   ]
  },
  {
   "cell_type": "code",
   "execution_count": null,
   "metadata": {},
   "outputs": [],
   "source": [
    "with POSTS_JSON.open(\"rb\") as f:\n",
    "  couter = 0\n",
    "  for batch in batched_read_objs(POSTS_JSON, BATCH_SIZE):\n",
    "    posts = [PostRaw(**post) for post in batch]\n",
    "    id_tag_pairs = get_id_tag_pairs(posts)\n",
    "    for id, tag in id_tag_pairs:\n",
    "      logger.info(f\"{id} {tag}\")\n",
    "    couter += 1\n",
    "    if couter >= READ_BATCHES:\n",
    "      break"
   ]
  }
 ],
 "metadata": {
  "language_info": {
   "name": "python"
  }
 },
 "nbformat": 4,
 "nbformat_minor": 2
}
