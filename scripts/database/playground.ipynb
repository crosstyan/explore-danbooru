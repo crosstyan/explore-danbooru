{
 "cells": [
  {
   "cell_type": "code",
   "execution_count": null,
   "metadata": {},
   "outputs": [],
   "source": [
    "from loguru import logger\n",
    "from typing import Dict, Optional, Generator, List, TypedDict, TypeVar, Iterable\n",
    "from pydantic import BaseModel\n",
    "from pathlib import Path\n",
    "from pydantic import ValidationError\n",
    "import jsonlines\n",
    "from models.posts import PostEntry, PostRaw, PostMediaVariantEntry, PostFileEntry\n",
    "from models.tags import TagEntry\n",
    "from models.tag_alias import TagAliasEntry\n",
    "from models.artists import ArtistEntry\n",
    "from IPython.display import display, Markdown, HTML\n"
   ]
  },
  {
   "cell_type": "code",
   "execution_count": null,
   "metadata": {},
   "outputs": [],
   "source": [
    "def split_tags(tags: str) -> Iterable[str]:\n",
    "    \"\"\"Split tags\"\"\"\n",
    "    return map(lambda x: x.strip(), tags.split(\" \"))\n",
    "\n",
    "def get_id_tag_pairs(posts: Iterable[PostRaw]) -> Generator[tuple[int, str], None, None]:\n",
    "    for post in posts:\n",
    "        tags = split_tags(post[\"tag_string\"])\n",
    "        id_tags = ((post[\"id\"], tag) for tag in tags)\n",
    "        yield from id_tags\n",
    "\n",
    "def batched_read_objs(path: str | Path,\n",
    "                      batch_size: int = 1000) -> Generator[List[Dict[str, any]], None, None]:\n",
    "    \"\"\"Read objects from file\"\"\"\n",
    "    with jsonlines.open(path) as reader:\n",
    "        acc: List[Dict[str, any]] = []\n",
    "        for obj in reader:\n",
    "            if len(acc) >= batch_size:\n",
    "                yield acc\n",
    "                acc.clear()\n",
    "            acc.append(obj)\n",
    "        if acc:\n",
    "            yield acc\n",
    "\n",
    "\n",
    "PROJECT_ROOT = Path(\"../..\")\n",
    "RAW_DIR = PROJECT_ROOT / \"raw\"\n",
    "POSTS_JSON = RAW_DIR / \"posts.json\"\n",
    "BATCH_SIZE = 5\n",
    "READ_BATCHES = 1"
   ]
  },
  {
   "cell_type": "code",
   "execution_count": null,
   "metadata": {},
   "outputs": [],
   "source": [
    "with POSTS_JSON.open(\"rb\") as f:\n",
    "  couter = 0\n",
    "  for batch in batched_read_objs(POSTS_JSON, BATCH_SIZE):\n",
    "    posts = [PostRaw(**post) for post in batch]\n",
    "    id_tag_pairs = get_id_tag_pairs(posts)\n",
    "    for id, tag in id_tag_pairs:\n",
    "      logger.info(f\"{id} {tag}\")\n",
    "    couter += 1\n",
    "    if couter >= READ_BATCHES:\n",
    "      break"
   ]
  }
 ],
 "metadata": {
  "kernelspec": {
   "display_name": "Python 3",
   "language": "python",
   "name": "python3"
  },
  "language_info": {
   "codemirror_mode": {
    "name": "ipython",
    "version": 3
   },
   "file_extension": ".py",
   "mimetype": "text/x-python",
   "name": "python",
   "nbconvert_exporter": "python",
   "pygments_lexer": "ipython3",
   "version": "3.10.4"
  }
 },
 "nbformat": 4,
 "nbformat_minor": 2
}
