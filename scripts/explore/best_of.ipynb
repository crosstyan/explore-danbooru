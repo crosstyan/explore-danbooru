{
 "cells": [
  {
   "cell_type": "code",
   "execution_count": null,
   "metadata": {},
   "outputs": [],
   "source": [
    "import polars as pl\n",
    "from pathlib import Path\n",
    "from IPython.display import display\n",
    "PROJECT_ROOT = Path(\"../..\")\n",
    "DATA_DIR = PROJECT_ROOT / \"data\""
   ]
  },
  {
   "cell_type": "code",
   "execution_count": null,
   "metadata": {},
   "outputs": [],
   "source": [
    "PUSSY_PATH = DATA_DIR / \"best_pussy.csv\"\n",
    "PANTYHOSE_PATH = DATA_DIR / \"best_pantyhose.csv\"\n",
    "df = pl.read_csv(PUSSY_PATH)\n",
    "df_with_ratio = df.with_columns([\n",
    "  (pl.col(\"target_post_count\") / pl.col(\"total_post_count\")).alias(\"target_ratio\")\n",
    "])\n",
    "df_with_ratio.describe()"
   ]
  },
  {
   "cell_type": "code",
   "execution_count": null,
   "metadata": {},
   "outputs": [],
   "source": [
    "df_filtered = df_with_ratio.filter(pl.col(\"target_ratio\") > 0.1)\n",
    "df_filtered.describe()"
   ]
  },
  {
   "cell_type": "code",
   "execution_count": null,
   "metadata": {},
   "outputs": [],
   "source": [
    "top = df_filtered[:50][[\"tag_name\", \"avg_score\", \"target_ratio\", \"target_post_count\", \"total_post_count\"]]\n",
    "display(top, metadata=dict(dock=True))"
   ]
  }
 ],
 "metadata": {
  "language_info": {
   "name": "python"
  }
 },
 "nbformat": 4,
 "nbformat_minor": 2
}
